{
 "cells": [
  {
   "cell_type": "code",
   "execution_count": 1,
   "metadata": {
    "collapsed": false
   },
   "outputs": [],
   "source": [
    "import pandas as pd\n",
    "import numpy as np\n",
    "\n",
    "from sklearn.base import BaseEstimator, TransformerMixin\n",
    "from sklearn.pipeline import Pipeline\n",
    "from sklearn.preprocessing import StandardScaler\n",
    "from sklearn.preprocessing import Imputer\n",
    "from sklearn.pipeline import FeatureUnion\n",
    "from sklearn.preprocessing import LabelBinarizer, OneHotEncoder, LabelEncoder\n",
    "\n",
    "class DataFrameSelector(BaseEstimator, TransformerMixin):\n",
    "    def __init__(self, attribute_names):\n",
    "        self.attribute_names = attribute_names\n",
    "    def fit(self, X, y=None):\n",
    "        return self\n",
    "    def transform(self, X):\n",
    "        return X[self.attribute_names].values\n",
    "    \n",
    "def get_xy(df, response):\n",
    "    y = df[response]\n",
    "    x = df.iloc[:, df.columns != response]\n",
    "        \n",
    "    return x, y"
   ]
  },
  {
   "cell_type": "code",
   "execution_count": 21,
   "metadata": {
    "collapsed": false
   },
   "outputs": [],
   "source": [
    "dataReg = {'age': [10,23,34,21,22,45,32,np.nan,48,32], 'type': ['A','B','C','B','D',np.nan,'A','B',np.nan,'C'],\n",
    "          'group':['AA','CC','BB','DD',np.nan,np.nan,'AA','BB','CC','BB'], 'child':[1,2,0,np.nan,3,4,2,1,3,2], \n",
    "          'wage':[100,200,300,250,200,340,210,320,400,120]}\n",
    "\n",
    "dataCla = {'age': [10,23,34,np.nan,np.nan,45,32,17,48,32], 'type': ['A','B','C','B','D',np.nan,'A','B',np.nan,'C'],\n",
    "          'group':['AA','CC','BB','DD',np.nan,np.nan,'AA','BB','CC','BB'], 'child':[1,2,0,1,3,4,2,1,3,np.nan], \n",
    "          'result':[1,1,1,0,0,0,0,1,1,1]}\n",
    "dataReg = pd.DataFrame(dataReg)\n",
    "dataCla = pd.DataFrame(dataCla)"
   ]
  },
  {
   "cell_type": "code",
   "execution_count": 20,
   "metadata": {
    "collapsed": false
   },
   "outputs": [
    {
     "data": {
      "text/plain": [
       "<matplotlib.axes._subplots.AxesSubplot at 0x114cb0a50>"
      ]
     },
     "execution_count": 20,
     "metadata": {},
     "output_type": "execute_result"
    }
   ],
   "source": [
    "import matplotlib.pyplot as plt\n",
    "import seaborn as sns\n",
    "sns.boxplot(x=\"type\", y=\"wage\", data=dataReg)"
   ]
  },
  {
   "cell_type": "code",
   "execution_count": 14,
   "metadata": {
    "collapsed": false
   },
   "outputs": [],
   "source": [
    "testReg = {'age': [10,23,34,21,22,45,32,17,48,32], 'type': ['A','E','C','B','D',np.nan,'A','B',np.nan,'C'],\n",
    "          'group':['AA','CC','BB','DD',np.nan,np.nan,'AA','BB','CC','BB'], 'child':[1,2,0,1,3,4,2,1,3,2]}\n",
    "testReg = pd.DataFrame(testReg)\n",
    "testReg = testReg.fillna('unknown')"
   ]
  },
  {
   "cell_type": "code",
   "execution_count": 15,
   "metadata": {
    "collapsed": true
   },
   "outputs": [],
   "source": [
    "dataReg = dataReg.fillna('unknown')\n",
    "dummy_train = pd.get_dummies(dataReg)\n",
    "dummy_new = pd.get_dummies(testReg)"
   ]
  },
  {
   "cell_type": "code",
   "execution_count": 18,
   "metadata": {
    "collapsed": false
   },
   "outputs": [],
   "source": [
    "dummy_new = dummy_new.reindex(columns = dummy_train.columns, fill_value=0)"
   ]
  },
  {
   "cell_type": "code",
   "execution_count": 19,
   "metadata": {
    "collapsed": false
   },
   "outputs": [
    {
     "data": {
      "text/html": [
       "<div>\n",
       "<style>\n",
       "    .dataframe thead tr:only-child th {\n",
       "        text-align: right;\n",
       "    }\n",
       "\n",
       "    .dataframe thead th {\n",
       "        text-align: left;\n",
       "    }\n",
       "\n",
       "    .dataframe tbody tr th {\n",
       "        vertical-align: top;\n",
       "    }\n",
       "</style>\n",
       "<table border=\"1\" class=\"dataframe\">\n",
       "  <thead>\n",
       "    <tr style=\"text-align: right;\">\n",
       "      <th></th>\n",
       "      <th>age</th>\n",
       "      <th>child</th>\n",
       "      <th>wage</th>\n",
       "      <th>group_AA</th>\n",
       "      <th>group_BB</th>\n",
       "      <th>group_CC</th>\n",
       "      <th>group_DD</th>\n",
       "      <th>group_unknown</th>\n",
       "      <th>type_A</th>\n",
       "      <th>type_B</th>\n",
       "      <th>type_C</th>\n",
       "      <th>type_D</th>\n",
       "      <th>type_unknown</th>\n",
       "    </tr>\n",
       "  </thead>\n",
       "  <tbody>\n",
       "    <tr>\n",
       "      <th>0</th>\n",
       "      <td>10</td>\n",
       "      <td>1</td>\n",
       "      <td>0</td>\n",
       "      <td>1</td>\n",
       "      <td>0</td>\n",
       "      <td>0</td>\n",
       "      <td>0</td>\n",
       "      <td>0</td>\n",
       "      <td>1</td>\n",
       "      <td>0</td>\n",
       "      <td>0</td>\n",
       "      <td>0</td>\n",
       "      <td>0</td>\n",
       "    </tr>\n",
       "    <tr>\n",
       "      <th>1</th>\n",
       "      <td>23</td>\n",
       "      <td>2</td>\n",
       "      <td>0</td>\n",
       "      <td>0</td>\n",
       "      <td>0</td>\n",
       "      <td>1</td>\n",
       "      <td>0</td>\n",
       "      <td>0</td>\n",
       "      <td>0</td>\n",
       "      <td>0</td>\n",
       "      <td>0</td>\n",
       "      <td>0</td>\n",
       "      <td>0</td>\n",
       "    </tr>\n",
       "    <tr>\n",
       "      <th>2</th>\n",
       "      <td>34</td>\n",
       "      <td>0</td>\n",
       "      <td>0</td>\n",
       "      <td>0</td>\n",
       "      <td>1</td>\n",
       "      <td>0</td>\n",
       "      <td>0</td>\n",
       "      <td>0</td>\n",
       "      <td>0</td>\n",
       "      <td>0</td>\n",
       "      <td>1</td>\n",
       "      <td>0</td>\n",
       "      <td>0</td>\n",
       "    </tr>\n",
       "    <tr>\n",
       "      <th>3</th>\n",
       "      <td>21</td>\n",
       "      <td>1</td>\n",
       "      <td>0</td>\n",
       "      <td>0</td>\n",
       "      <td>0</td>\n",
       "      <td>0</td>\n",
       "      <td>1</td>\n",
       "      <td>0</td>\n",
       "      <td>0</td>\n",
       "      <td>1</td>\n",
       "      <td>0</td>\n",
       "      <td>0</td>\n",
       "      <td>0</td>\n",
       "    </tr>\n",
       "    <tr>\n",
       "      <th>4</th>\n",
       "      <td>22</td>\n",
       "      <td>3</td>\n",
       "      <td>0</td>\n",
       "      <td>0</td>\n",
       "      <td>0</td>\n",
       "      <td>0</td>\n",
       "      <td>0</td>\n",
       "      <td>1</td>\n",
       "      <td>0</td>\n",
       "      <td>0</td>\n",
       "      <td>0</td>\n",
       "      <td>1</td>\n",
       "      <td>0</td>\n",
       "    </tr>\n",
       "    <tr>\n",
       "      <th>5</th>\n",
       "      <td>45</td>\n",
       "      <td>4</td>\n",
       "      <td>0</td>\n",
       "      <td>0</td>\n",
       "      <td>0</td>\n",
       "      <td>0</td>\n",
       "      <td>0</td>\n",
       "      <td>1</td>\n",
       "      <td>0</td>\n",
       "      <td>0</td>\n",
       "      <td>0</td>\n",
       "      <td>0</td>\n",
       "      <td>1</td>\n",
       "    </tr>\n",
       "    <tr>\n",
       "      <th>6</th>\n",
       "      <td>32</td>\n",
       "      <td>2</td>\n",
       "      <td>0</td>\n",
       "      <td>1</td>\n",
       "      <td>0</td>\n",
       "      <td>0</td>\n",
       "      <td>0</td>\n",
       "      <td>0</td>\n",
       "      <td>1</td>\n",
       "      <td>0</td>\n",
       "      <td>0</td>\n",
       "      <td>0</td>\n",
       "      <td>0</td>\n",
       "    </tr>\n",
       "    <tr>\n",
       "      <th>7</th>\n",
       "      <td>17</td>\n",
       "      <td>1</td>\n",
       "      <td>0</td>\n",
       "      <td>0</td>\n",
       "      <td>1</td>\n",
       "      <td>0</td>\n",
       "      <td>0</td>\n",
       "      <td>0</td>\n",
       "      <td>0</td>\n",
       "      <td>1</td>\n",
       "      <td>0</td>\n",
       "      <td>0</td>\n",
       "      <td>0</td>\n",
       "    </tr>\n",
       "    <tr>\n",
       "      <th>8</th>\n",
       "      <td>48</td>\n",
       "      <td>3</td>\n",
       "      <td>0</td>\n",
       "      <td>0</td>\n",
       "      <td>0</td>\n",
       "      <td>1</td>\n",
       "      <td>0</td>\n",
       "      <td>0</td>\n",
       "      <td>0</td>\n",
       "      <td>0</td>\n",
       "      <td>0</td>\n",
       "      <td>0</td>\n",
       "      <td>1</td>\n",
       "    </tr>\n",
       "    <tr>\n",
       "      <th>9</th>\n",
       "      <td>32</td>\n",
       "      <td>2</td>\n",
       "      <td>0</td>\n",
       "      <td>0</td>\n",
       "      <td>1</td>\n",
       "      <td>0</td>\n",
       "      <td>0</td>\n",
       "      <td>0</td>\n",
       "      <td>0</td>\n",
       "      <td>0</td>\n",
       "      <td>1</td>\n",
       "      <td>0</td>\n",
       "      <td>0</td>\n",
       "    </tr>\n",
       "  </tbody>\n",
       "</table>\n",
       "</div>"
      ],
      "text/plain": [
       "   age  child  wage  group_AA  group_BB  group_CC  group_DD  group_unknown  \\\n",
       "0   10      1     0         1         0         0         0              0   \n",
       "1   23      2     0         0         0         1         0              0   \n",
       "2   34      0     0         0         1         0         0              0   \n",
       "3   21      1     0         0         0         0         1              0   \n",
       "4   22      3     0         0         0         0         0              1   \n",
       "5   45      4     0         0         0         0         0              1   \n",
       "6   32      2     0         1         0         0         0              0   \n",
       "7   17      1     0         0         1         0         0              0   \n",
       "8   48      3     0         0         0         1         0              0   \n",
       "9   32      2     0         0         1         0         0              0   \n",
       "\n",
       "   type_A  type_B  type_C  type_D  type_unknown  \n",
       "0       1       0       0       0             0  \n",
       "1       0       0       0       0             0  \n",
       "2       0       0       1       0             0  \n",
       "3       0       1       0       0             0  \n",
       "4       0       0       0       1             0  \n",
       "5       0       0       0       0             1  \n",
       "6       1       0       0       0             0  \n",
       "7       0       1       0       0             0  \n",
       "8       0       0       0       0             1  \n",
       "9       0       0       1       0             0  "
      ]
     },
     "execution_count": 19,
     "metadata": {},
     "output_type": "execute_result"
    }
   ],
   "source": [
    "dummy_new"
   ]
  },
  {
   "cell_type": "code",
   "execution_count": 17,
   "metadata": {
    "collapsed": true
   },
   "outputs": [],
   "source": [
    "def get_matrix(x, impute_strategy, output_format):\n",
    "    numeric_df = x.select_dtypes(include=[np.number])\n",
    "    category_df = x.select_dtypes(include=[object])\n",
    "    category_df = category_df.fillna('unknown')\n",
    "    num_pipeline = Pipeline([\n",
    "        ('selector', DataFrameSelector(numeric_df.columns)),\n",
    "        ('imputer', Imputer(strategy=impute_strategy)),\n",
    "        ('std_scaler', StandardScaler())\n",
    "    ])\n",
    "    \n",
    "    if output_format == 'matrix':\n",
    "        num_result = num_pipeline.fit_transform(numeric_df)\n",
    "        category_df = category_df.apply(LabelEncoder().fit_transform)\n",
    "        ohe = OneHotEncoder()\n",
    "        ohe_result = ohe.fit_transform(category_df).toarray()\n",
    "        result = np.hstack([num_result, ohe_result])\n",
    "    elif output_format == 'df':\n",
    "        num_result = pd.DataFrame(num_pipeline.fit_transform(numeric_df))\n",
    "        num_result.columns = numeric_df.columns\n",
    "        category_result = pd.get_dummies(category_df)\n",
    "        result = pd.concat([num_result, category_result], axis=1)\n",
    "    \n",
    "    return result"
   ]
  },
  {
   "cell_type": "code",
   "execution_count": 23,
   "metadata": {
    "collapsed": true
   },
   "outputs": [],
   "source": [
    "from sklearn.model_selection import train_test_split\n",
    "def split_train_test_validation(df, response, test_size = 0.2):\n",
    "    X, Y = get_xy(df, response)\n",
    "    X_train, X_test, y_train, y_test = train_test_split(X, Y, test_size=test_size, random_state=42)\n",
    "    \n",
    "    return X_train, X_test, y_train, y_test"
   ]
  },
  {
   "cell_type": "code",
   "execution_count": 31,
   "metadata": {
    "collapsed": true
   },
   "outputs": [],
   "source": [
    "x, y = get_xy(dataCla, 'result')"
   ]
  },
  {
   "cell_type": "code",
   "execution_count": 40,
   "metadata": {
    "collapsed": false
   },
   "outputs": [],
   "source": [
    "x_matrix = get_matrix(x, 'median', 'matrix')"
   ]
  },
  {
   "cell_type": "code",
   "execution_count": 41,
   "metadata": {
    "collapsed": false
   },
   "outputs": [],
   "source": [
    "X_train, X_test, y_train, y_test = split_train_test(x_matrix,y,test_size=0.2)"
   ]
  },
  {
   "cell_type": "code",
   "execution_count": 37,
   "metadata": {
    "collapsed": true
   },
   "outputs": [],
   "source": [
    "def get_baseline_model(X_train, y_train, problem_type, metric):\n",
    "    kfold = KFold(n_splits=5, random_state=42)\n",
    "    \n",
    "    if problem_type == 'regression':\n",
    "        print 'Linear Regression:', -np.mean(cross_val_score(LinearRegression(), X_train, y_train, cv=kfold, scoring=metric))\n",
    "    elif problem_type == 'classification':\n",
    "        print 'Logistic Regression:', np.mean(cross_val_score(LogisticRegression(), X_train, y_train, cv=kfold, scoring=metric))"
   ]
  },
  {
   "cell_type": "code",
   "execution_count": 28,
   "metadata": {
    "collapsed": false
   },
   "outputs": [
    {
     "ename": "SyntaxError",
     "evalue": "invalid syntax (<ipython-input-28-de0675739cdd>, line 6)",
     "output_type": "error",
     "traceback": [
      "\u001b[0;36m  File \u001b[0;32m\"<ipython-input-28-de0675739cdd>\"\u001b[0;36m, line \u001b[0;32m6\u001b[0m\n\u001b[0;31m    def get_basel\u001b[0m\n\u001b[0m                 ^\u001b[0m\n\u001b[0;31mSyntaxError\u001b[0m\u001b[0;31m:\u001b[0m invalid syntax\n"
     ]
    }
   ],
   "source": [
    "from sklearn.linear_model import LinearRegression, LogisticRegression, Lasso, Ridge\n",
    "from sklearn.ensemble import RandomForestRegressor, RandomForestClassifier, GradientBoostingClassifier, GradientBoostingRegressor\n",
    "from sklearn.svm import SVC\n",
    "from sklearn.model_selection import KFold, cross_val_score\n",
    "\n",
    "def compare_model(X_train, y_train, problem_type, metric):\n",
    "    kfold = KFold(n_splits=5, random_state=42)\n",
    "    cv_performance = []\n",
    "    \n",
    "    if problem_type == 'regression':\n",
    "        algoList = ['LinearRegression', 'Lasso', 'Ridge', 'RandomForestRegressor', 'GradientBoostingRegressor']\n",
    "        for algo in [LinearRegression(), Lasso(), Ridge(), RandomForestRegressor(), GradientBoostingRegressor()]:\n",
    "            cv_performance.append(np.mean(cross_val_score(algo, X_train, y_train, cv=kfold, scoring=metric)))\n",
    "        result_dict = dict(zip(algoList, cv_performance))\n",
    "    elif problem_type == 'classification':\n",
    "        algoList = ['LogisticRegression', 'SVC', 'RandomForestClassifier', 'GradientBoostingClassifier']\n",
    "        for algo in [LogisticRegression(), SVC(C=0.5), RandomForestClassifier(), GradientBoostingClassifier()]:\n",
    "            cv_performance.append(np.mean(cross_val_score(algo, X_train, y_train, cv=kfold, scoring=metric)))\n",
    "        result_dict = dict(zip(algoList, cv_performance))\n",
    "    return result_dict"
   ]
  },
  {
   "cell_type": "code",
   "execution_count": 42,
   "metadata": {
    "collapsed": false
   },
   "outputs": [
    {
     "name": "stdout",
     "output_type": "stream",
     "text": [
      "Logistic Regression: 0.6\n",
      "None\n"
     ]
    }
   ],
   "source": [
    "print get_baseline_model(X_train, y_train, 'classification', 'accuracy')"
   ]
  },
  {
   "cell_type": "code",
   "execution_count": 45,
   "metadata": {
    "collapsed": false
   },
   "outputs": [
    {
     "data": {
      "text/plain": [
       "array([[<matplotlib.axes._subplots.AxesSubplot object at 0x11abeb650>,\n",
       "        <matplotlib.axes._subplots.AxesSubplot object at 0x119d6ffd0>]], dtype=object)"
      ]
     },
     "execution_count": 45,
     "metadata": {},
     "output_type": "execute_result"
    },
    {
     "data": {
      "image/png": "[encoded data removed]",
      "text/plain": [
       "<matplotlib.figure.Figure at 0x11abe8e90>"
      ]
     },
     "metadata": {},
     "output_type": "display_data"
    }
   ],
   "source": [
    "%matplotlib inline\n",
    "x.hist()"
   ]
  },
  {
   "cell_type": "code",
   "execution_count": null,
   "metadata": {
    "collapsed": true
   },
   "outputs": [],
   "source": []
  }
 ],
 "metadata": {
  "kernelspec": {
   "display_name": "Python [Root]",
   "language": "python",
   "name": "Python [Root]"
  },
  "language_info": {
   "codemirror_mode": {
    "name": "ipython",
    "version": 2
   },
   "file_extension": ".py",
   "mimetype": "text/x-python",
   "name": "python",
   "nbconvert_exporter": "python",
   "pygments_lexer": "ipython2",
   "version": "2.7.12"
  }
 },
 "nbformat": 4,
 "nbformat_minor": 0
}
